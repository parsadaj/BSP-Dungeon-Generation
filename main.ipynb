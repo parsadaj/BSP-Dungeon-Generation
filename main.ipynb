{
 "cells": [
  {
   "cell_type": "code",
   "execution_count": 23,
   "metadata": {},
   "outputs": [],
   "source": [
    "import numpy as np\n",
    "import matplotlib.pyplot as plt"
   ]
  },
  {
   "cell_type": "code",
   "execution_count": 2,
   "metadata": {},
   "outputs": [],
   "source": [
    "class BSPNode:\n",
    "    def __init__(self, x, y, w, h):\n",
    "        self.x = x\n",
    "        self.y = y\n",
    "        self.w = w\n",
    "        self.h = h\n",
    "        self.left = None\n",
    "        self.right = None\n",
    "        self.parent = None\n",
    "        self.room = None\n",
    "        self.split = None\n",
    "        \n",
    "    def create_room(self):\n",
    "        room_width = np.random.randint(self.w // 4, self.w)\n",
    "        room_height = np.random.randint(self.h // 4, self.h)\n",
    "        room_x = np.random.randint(self.x, self.x + (self.w  -  room_width))\n",
    "        room_y = np.random.randint(self.y, self.y + (self.h - room_height))\n",
    "        self.room = (room_x, room_y, room_width, room_height)\n",
    "        \n",
    "    def connect_rooms(self):\n",
    "        if self.left and self.right:\n",
    "            connect_rooms(self.left)\n",
    "            connect_rooms(self.right)\n",
    "        if self.left.room and self.right.room:\n",
    "            connect_two_rooms(self.left.room, self.right.room)"
   ]
  },
  {
   "cell_type": "code",
   "execution_count": 28,
   "metadata": {},
   "outputs": [],
   "source": [
    "class BSPGenerator:\n",
    "    def __init__(self, w, h, min_w=None, min_h=None, corridor_w=5):\n",
    "        self.w = w\n",
    "        self.h = h\n",
    "        self.min_w = min_w if min_w is not None else w // 3\n",
    "        self.min_h = min_h if min_h is not None else h // 3\n",
    "        self.array = np.zeros((h, w))\n",
    "        self.rooms = []\n",
    "        self.nodes = []\n",
    "        self.corridor_w = 5\n",
    "\n",
    "    def generate_dungeon(self):\n",
    "        self.root = BSPNode(0, 0, self.w, self.h)\n",
    "        self.bsp_tree_recursive(self.root)\n",
    "        # connect_rooms(root)\n",
    "        self.generate_array()\n",
    "        return self.array\n",
    "\n",
    "    def bsp_tree_recursive(self, node: BSPNode):\n",
    "        self.nodes.append(node)\n",
    "        if node.w < self.min_w or node.h < self.min_h:\n",
    "            node.create_room()\n",
    "            self.rooms.append(node.room)\n",
    "            return\n",
    "    \n",
    "        split_way = np.random.choice(['h', 'v'])\n",
    "        if split_way == 'h':\n",
    "            self.split_horizontally(node)\n",
    "        elif split_way == 'v':\n",
    "            self.split_vertically(node)\n",
    "        \n",
    "        node.split = split_way\n",
    "        \n",
    "        self.bsp_tree_recursive(node.left)\n",
    "        self.bsp_tree_recursive(node.right)\n",
    "        \n",
    "    def generate_array(self):\n",
    "        for (room_x, room_y, room_w, room_h) in self.rooms:\n",
    "            self.array[room_y: room_y+room_h, room_x: room_x+room_w] = 1\n",
    "            \n",
    "\n",
    "    def split_horizontally(self, node: BSPNode):\n",
    "        split = np.random.randint(self.min_w//2, node.w - self.min_w//2)\n",
    "        node.left = BSPNode(node.x,          node.y, split,              node.h)\n",
    "        node.left.parent = node\n",
    "        node.right = BSPNode(node.x + split, node.y, node.w - split, node.h)\n",
    "        node.right.parent = node\n",
    "\n",
    "    def split_vertically(self, node: BSPNode):\n",
    "        split = np.random.randint(self.min_h//2, node.h - self.min_h//2)\n",
    "        node.left = BSPNode(node.x, node.y, node.w, split)\n",
    "        node.right = BSPNode(node.x, node.y + split, node.w, node.h - split)\n",
    "\n",
    "\n",
    "def connect_two_rooms(room1, room2):\n",
    "    x1, y1, w1, h1 = room1\n",
    "    x2, y2, w2, h2 = room2\n",
    "    cx1 = np.random.randint(x1, x1 + w1)\n",
    "    cx2 = np.random.randint(x2, x2 + w2)\n",
    "    cy1 = np.random.randint(y1, y1 + h1)\n",
    "    cy2 = np.random.randint(y2, y2 + h2)\n",
    "    \n",
    "    if np.random.rand() > 0.5:\n",
    "        corridors = [(cx1, cy1), (cx1, cy2), (cx2, cy2)]\n",
    "    else:\n",
    "        corridors = [(cx1, cy1), (cx2, cy1), (cx2, cy2)]\n",
    "    \n",
    "    for corridor in corridors:\n",
    "        if corridor[0] != cx1:\n",
    "            connect_horizontal(corridor[0], cx1, corridor[1])\n",
    "        if corridor[0] != cx2:\n",
    "            connect_horizontal(corridor[0], cx2, corridor[1])\n",
    "        if corridor[1] != cy1:\n",
    "            connect_vertical(corridor[1], cy1, corridor[0])\n",
    "        if corridor[1] != cy2:\n",
    "            connect_vertical(corridor[1], cy2, corridor[0])\n",
    "            \n",
    "\n",
    "def connect_horizontal(x1, x2, y):\n",
    "    for x in range(min(x1, x2), max(x1, x2) + 1):\n",
    "        dungeon[y, x] = 1\n",
    "\n",
    "\n",
    "def connect_vertical(y1, y2, x):\n",
    "    for y in range(min(y1, y2), max(y1, y2) + 1):\n",
    "        dungeon[y, x] = 1\n",
    "\n",
    "def display_dungeon(dungeon):\n",
    "    for row in dungeon:\n",
    "        for cell in row:\n",
    "            if cell == 1:\n",
    "                print(\"#\", end=\"\")\n",
    "            else:\n",
    "                print(\".\", end=\"\")\n",
    "        print()\n",
    "\n",
    "def plot_dungeon(dungeon):\n",
    "    plt.imshow(dungeon, cmap='gray')\n"
   ]
  },
  {
   "cell_type": "code",
   "execution_count": 29,
   "metadata": {},
   "outputs": [
    {
     "data": {
      "image/png": "[encoded data removed]",
      "text/plain": [
       "<Figure size 640x480 with 1 Axes>"
      ]
     },
     "metadata": {},
     "output_type": "display_data"
    }
   ],
   "source": [
    "# Example usage\n",
    "w, h = 100, 100\n",
    "\n",
    "bspg = BSPGenerator(w, h)\n",
    "dungeon = bspg.generate_dungeon()\n",
    "\n",
    "plot_dungeon(dungeon)"
   ]
  },
  {
   "cell_type": "code",
   "execution_count": null,
   "metadata": {},
   "outputs": [
    {
     "name": "stdout",
     "output_type": "stream",
     "text": [
      "100 100\n",
      "100 29\n",
      "68 29\n",
      "40 29\n"
     ]
    }
   ],
   "source": [
    "for node in bspg.nodes:\n",
    "    print(node.h, node.w)"
   ]
  },
  {
   "cell_type": "code",
   "execution_count": null,
   "metadata": {},
   "outputs": [],
   "source": []
  }
 ],
 "metadata": {
  "kernelspec": {
   "display_name": "Python 3",
   "language": "python",
   "name": "python3"
  },
  "language_info": {
   "codemirror_mode": {
    "name": "ipython",
    "version": 3
   },
   "file_extension": ".py",
   "mimetype": "text/x-python",
   "name": "python",
   "nbconvert_exporter": "python",
   "pygments_lexer": "ipython3",
   "version": "3.9.6"
  }
 },
 "nbformat": 4,
 "nbformat_minor": 2
}
