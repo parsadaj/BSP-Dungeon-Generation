{
 "cells": [
  {
   "cell_type": "code",
   "execution_count": 2,
   "metadata": {},
   "outputs": [],
   "source": [
    "from BSP import BSPGenerator\n",
    "from utils import plot_dungeon"
   ]
  },
  {
   "cell_type": "code",
   "execution_count": 50,
   "metadata": {},
   "outputs": [
    {
     "data": {
      "text/plain": [
       "(-0.5, 99.5, 99.5, -0.5)"
      ]
     },
     "execution_count": 50,
     "metadata": {},
     "output_type": "execute_result"
    },
    {
     "data": {
      "image/png": "[encoded data removed]",
      "text/plain": [
       "<Figure size 640x480 with 1 Axes>"
      ]
     },
     "metadata": {},
     "output_type": "display_data"
    }
   ],
   "source": [
    "# Example usage\n",
    "w, h = 100, 100\n",
    "\n",
    "bspg = BSPGenerator(w, h)\n",
    "dungeon = bspg.generate_dungeon()\n",
    "import matplotlib.pyplot as plt\n",
    "plot_dungeon(dungeon)\n",
    "plt.axis('off')"
   ]
  },
  {
   "cell_type": "code",
   "execution_count": 60,
   "metadata": {},
   "outputs": [
    {
     "name": "stdout",
     "output_type": "stream",
     "text": [
      "0 0 100 100\n",
      "0 0 47 100\n",
      "0 0 47 36\n",
      "0 0 47 19\n",
      "19 0 47 17\n",
      "36 0 47 64\n",
      "36 0 47 46\n",
      "36 0 21 46\n",
      "36 21 26 46\n",
      "82 0 47 18\n",
      "0 47 53 100\n",
      "0 47 30 100\n",
      "0 77 23 100\n"
     ]
    },
    {
     "data": {
      "text/plain": [
       "<matplotlib.image.AxesImage at 0x1399a9370>"
      ]
     },
     "execution_count": 60,
     "metadata": {},
     "output_type": "execute_result"
    },
    {
     "data": {
      "image/png": "[encoded data removed]",
      "text/plain": [
       "<Figure size 640x480 with 1 Axes>"
      ]
     },
     "metadata": {},
     "output_type": "display_data"
    }
   ],
   "source": [
    "\n",
    "\n",
    "import numpy as np\n",
    "\n",
    "nodes_plot = np.zeros_like(dungeon)\n",
    "for node in bspg.nodes:\n",
    "    print(node.x, node.y, node.h, node.w)\n",
    "    nodes_plot[node.y:node.y+node.h-1, node.x] = 1\n",
    "    nodes_plot[node.y:node.y+node.h-1, node.x+node.w-1] = 1\n",
    "    nodes_plot[node.y, node.x:node.x+node.w-1] = 1\n",
    "    nodes_plot[node.y+node.h-1, node.x:node.x+node.w-1] = 1\n",
    "from matplotlib.colors import ListedColormap\n",
    "\n",
    "# Example nodes_plot array\n",
    "# nodes_plot = np.array([[0, 1, 0],\n",
    "#                        [1, 1, 1],\n",
    "#                        [0, 1, 0]])\n",
    "\n",
    "# Define the custom colormap: 0 -> black, 1 -> red\n",
    "colors = ['black', 'red']\n",
    "cmap = ListedColormap(colors)\n",
    "\n",
    "# Plot the array with the custom colormap\n",
    "plt.imshow(nodes_plot, cmap=cmap, vmin=0, vmax=1)    "
   ]
  },
  {
   "cell_type": "code",
   "execution_count": 63,
   "metadata": {},
   "outputs": [
    {
     "data": {
      "text/plain": [
       "<matplotlib.image.AxesImage at 0x139bae730>"
      ]
     },
     "execution_count": 63,
     "metadata": {},
     "output_type": "execute_result"
    },
    {
     "data": {
      "image/png": "[encoded data removed]",
      "text/plain": [
       "<Figure size 640x480 with 2 Axes>"
      ]
     },
     "metadata": {},
     "output_type": "display_data"
    }
   ],
   "source": [
    "fig, ax = plt.subplots(1, 2)\n",
    "for _ in ax:\n",
    "    _.axis('off')\n",
    "\n",
    "ax[0].imshow(dungeon, cmap='gray')\n",
    "ax[1].imshow(nodes_plot, cmap=cmap, vmin=0, vmax=1)"
   ]
  },
  {
   "cell_type": "code",
   "execution_count": null,
   "metadata": {},
   "outputs": [],
   "source": []
  },
  {
   "cell_type": "code",
   "execution_count": null,
   "metadata": {},
   "outputs": [],
   "source": []
  },
  {
   "cell_type": "code",
   "execution_count": null,
   "metadata": {},
   "outputs": [],
   "source": []
  },
  {
   "cell_type": "code",
   "execution_count": null,
   "metadata": {},
   "outputs": [],
   "source": []
  },
  {
   "cell_type": "code",
   "execution_count": null,
   "metadata": {},
   "outputs": [],
   "source": []
  },
  {
   "cell_type": "code",
   "execution_count": null,
   "metadata": {},
   "outputs": [],
   "source": []
  },
  {
   "cell_type": "code",
   "execution_count": null,
   "metadata": {},
   "outputs": [],
   "source": []
  },
  {
   "cell_type": "code",
   "execution_count": null,
   "metadata": {},
   "outputs": [],
   "source": []
  },
  {
   "cell_type": "code",
   "execution_count": 4,
   "metadata": {},
   "outputs": [
    {
     "name": "stdout",
     "output_type": "stream",
     "text": [
      "100 100\n",
      "28 100\n",
      "72 100\n",
      "30 100\n",
      "42 100\n",
      "18 100\n",
      "24 100\n"
     ]
    }
   ],
   "source": [
    "for node in bspg.nodes:\n",
    "    print(node.h, node.w)"
   ]
  },
  {
   "cell_type": "code",
   "execution_count": null,
   "metadata": {},
   "outputs": [],
   "source": []
  }
 ],
 "metadata": {
  "kernelspec": {
   "display_name": "Python 3",
   "language": "python",
   "name": "python3"
  },
  "language_info": {
   "codemirror_mode": {
    "name": "ipython",
    "version": 3
   },
   "file_extension": ".py",
   "mimetype": "text/x-python",
   "name": "python",
   "nbconvert_exporter": "python",
   "pygments_lexer": "ipython3",
   "version": "3.9.6"
  }
 },
 "nbformat": 4,
 "nbformat_minor": 2
}
